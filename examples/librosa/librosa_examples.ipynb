{
 "cells": [
  {
   "cell_type": "markdown",
   "metadata": {},
   "source": [
    "# Librosa"
   ]
  },
  {
   "cell_type": "markdown",
   "metadata": {},
   "source": [
    "Librosa is a python package for music and audio analysis. It provides the building blocks necessary to create music information retrieval systems. It includes functions for loading audio from files, computing various representations of the audio, and performing common operations on the audio data."
   ]
  },
  {
   "cell_type": "code",
   "execution_count": 1,
   "metadata": {},
   "outputs": [],
   "source": [
    "import librosa\n",
    "import librosa.display\n",
    "import matplotlib.pyplot as plt\n",
    "import numpy as np\n",
    "import os\n",
    "import sys"
   ]
  },
  {
   "cell_type": "markdown",
   "metadata": {},
   "source": [
    "## Basic components"
   ]
  },
  {
   "cell_type": "code",
   "execution_count": 16,
   "metadata": {},
   "outputs": [],
   "source": [
    "def plot_basic_components(audio_file):\n",
    "    # Load the audio file\n",
    "    y, sr = librosa.load(audio_file)\n",
    "\n",
    "    # Separate the harmonic and percussive components\n",
    "    y_harmonic, y_percussive = librosa.effects.hpss(y)\n",
    "\n",
    "    # Create a time array in seconds\n",
    "    time = np.arange(len(y)) / sr\n",
    "\n",
    "    # Plot the input sound signal\n",
    "    plt.figure(figsize=(12, 8))\n",
    "    plt.subplot(3, 1, 1)\n",
    "    plt.plot(time, y)\n",
    "    plt.title('Input sound signal')\n",
    "    plt.xlabel('Time (s)')\n",
    "\n",
    "    # Plot the harmonic component\n",
    "    plt.subplot(3, 1, 2)\n",
    "    plt.plot(time[:len(y_harmonic)], y_harmonic)\n",
    "    plt.title('Harmonic component')\n",
    "    plt.xlabel('Time (s)')\n",
    "\n",
    "    # Plot the percussive component\n",
    "    plt.subplot(3, 1, 3)\n",
    "    plt.plot(time[:len(y_percussive)], y_percussive)\n",
    "    plt.title('Percussive component')\n",
    "    plt.xlabel('Time (s)')\n",
    "    plt.tight_layout()"
   ]
  },
  {
   "cell_type": "markdown",
   "metadata": {},
   "source": [
    "## Advanced components"
   ]
  },
  {
   "cell_type": "code",
   "execution_count": 17,
   "metadata": {},
   "outputs": [],
   "source": [
    "def plot_spectograms(audio_file):\n",
    "    # Load the audio file\n",
    "    y, sr = librosa.load(audio_file)\n",
    "\n",
    "    # Print the data\n",
    "    for header, value in zip(headers, data):\n",
    "        print(f\"{header:{max_header_width}}: {value}\")\n",
    "\n",
    "    # Separate the harmonic and percussive components\n",
    "    y_harmonic, y_percussive = librosa.effects.hpss(y)\n",
    "\n",
    "    # Create a time array in seconds\n",
    "    time = np.arange(len(y)) / sr\n",
    "\n",
    "    # Compute spectogram\n",
    "    spectogram = librosa.feature.melspectrogram(y=y, sr=sr)\n",
    "\n",
    "    # Compute spectrogram for harmonic component and percussive component separately\n",
    "    S_harmonic = librosa.feature.melspectrogram(y=y_harmonic)\n",
    "    S_percussive = librosa.feature.melspectrogram(y=y_percussive)\n",
    "\n",
    "    # MFCC\n",
    "    mfccs = librosa.feature.mfcc(y=y, sr=sr)\n",
    "    plt.figure(figsize=(10, 6))\n",
    "    \n",
    "    # Plot MFCCs\n",
    "    plt.subplot(4, 1, 1)\n",
    "    librosa.display.specshow(mfccs, x_axis='time')\n",
    "    plt.title('MFCC')\n",
    "\n",
    "    # Plotting harmonic spectrogram \n",
    "    plt.subplot(4, 1, 2)\n",
    "    librosa.display.specshow(librosa.power_to_db(spectogram), x_axis='time', y_axis='mel')\n",
    "    plt.title('Mel-frequency spectogram (Total)')\n",
    "\n",
    "    # Plotting harmonic spectrogram \n",
    "    plt.subplot(4, 1, 3)\n",
    "    librosa.display.specshow(librosa.power_to_db(S_harmonic), x_axis='time', y_axis='mel')\n",
    "    plt.title('Mel-frequency spectrogram (Harmonic)')\n",
    "     \n",
    "    # Plotting percussive spectrogram \n",
    "    plt.subplot(4, 1, 4)\n",
    "    librosa.display.specshow(librosa.power_to_db(S_percussive), x_axis='time', y_axis='mel')\n",
    "    plt.title('Mel-frequency spectrogram (Percussive)')\n",
    "    plt.tight_layout()"
   ]
  },
  {
   "cell_type": "code",
   "execution_count": 19,
   "metadata": {
    "scrolled": false
   },
   "outputs": [
    {
     "name": "stdout",
     "output_type": "stream",
     "text": [
      "Filename          : audio_admiralbob77_-_Choice_-_Drum-bass.ogg\n",
      "Type              : ogg\n",
      "Duration (seconds): 25\n",
      "Sample Rate (hz)  : 22050\n"
     ]
    }
   ],
   "source": [
    "y, sr = librosa.load(audio_file)\n",
    "\n",
    "# Data specifications\n",
    "headers = ['Filename', 'Type', 'Duration (seconds)', 'Sample Rate (hz)']\n",
    "data = [os.path.basename(audio_file), audio_file.split(\".\")[-1], round(librosa.get_duration(path=audio_file)), sr]\n",
    "\n",
    "# Find the longest string in the headers\n",
    "max_header_width = max(len(header) for header in headers)\n",
    "\n",
    "# Print the data\n",
    "for header, value in zip(headers, data):\n",
    "    print(f\"{header:{max_header_width}}: {value}\")\n",
    "\n",
    "audio_file = \"audio/audio_admiralbob77_-_Choice_-_Drum-bass.ogg\"\n",
    "# plot_basic_components(audio_file)\n",
    "# plot_spectograms(audio_file)"
   ]
  }
 ],
 "metadata": {
  "kernelspec": {
   "display_name": "Python 3 (ipykernel)",
   "language": "python",
   "name": "python3"
  },
  "language_info": {
   "codemirror_mode": {
    "name": "ipython",
    "version": 3
   },
   "file_extension": ".py",
   "mimetype": "text/x-python",
   "name": "python",
   "nbconvert_exporter": "python",
   "pygments_lexer": "ipython3",
   "version": "3.9.16"
  }
 },
 "nbformat": 4,
 "nbformat_minor": 2
}
